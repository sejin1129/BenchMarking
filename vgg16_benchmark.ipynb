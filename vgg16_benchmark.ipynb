{
  "nbformat": 4,
  "nbformat_minor": 0,
  "metadata": {
    "colab": {
      "provenance": [],
      "authorship_tag": "ABX9TyP9wttl29bPmd317IrqKrwV",
      "include_colab_link": true
    },
    "kernelspec": {
      "name": "python3",
      "display_name": "Python 3"
    },
    "language_info": {
      "name": "python"
    },
    "accelerator": "GPU",
    "gpuClass": "standard"
  },
  "cells": [
    {
      "cell_type": "markdown",
      "metadata": {
        "id": "view-in-github",
        "colab_type": "text"
      },
      "source": [
        "<a href=\"https://colab.research.google.com/github/sejin1129/BenchMarking/blob/main/vgg16_benchmark.ipynb\" target=\"_parent\"><img src=\"https://colab.research.google.com/assets/colab-badge.svg\" alt=\"Open In Colab\"/></a>"
      ]
    },
    {
      "cell_type": "code",
      "execution_count": 7,
      "metadata": {
        "colab": {
          "base_uri": "https://localhost:8080/",
          "height": 731
        },
        "id": "59AuVPPFtfaF",
        "outputId": "da9b269f-f157-4531-ade2-9a266eca474d"
      },
      "outputs": [
        {
          "output_type": "stream",
          "name": "stdout",
          "text": [
            "Files already downloaded and verified\n",
            "Files already downloaded and verified\n",
            "cuda:0\n",
            "[1,  1563] loss: 2.374\n",
            "[2,  1563] loss: 1.615\n",
            "[3,  1563] loss: 1.277\n",
            "[4,  1563] loss: 1.050\n",
            "[5,  1563] loss: 0.899\n",
            "[6,  1563] loss: 0.761\n",
            "[7,  1563] loss: 0.649\n",
            "[8,  1563] loss: 0.553\n",
            "[9,  1563] loss: 0.466\n",
            "[10,  1563] loss: 0.397\n",
            "Finished Training\n",
            "Accuracy for class: plane is 80.3 %\n",
            "Accuracy for class: car   is 91.5 %\n",
            "Accuracy for class: bird  is 54.1 %\n",
            "Accuracy for class: cat   is 57.0 %\n",
            "Accuracy for class: deer  is 85.3 %\n",
            "Accuracy for class: dog   is 62.8 %\n",
            "Accuracy for class: frog  is 82.2 %\n",
            "Accuracy for class: horse is 85.0 %\n",
            "Accuracy for class: ship  is 85.5 %\n",
            "Accuracy for class: truck is 85.1 %\n"
          ]
        },
        {
          "output_type": "display_data",
          "data": {
            "text/plain": [
              "<Figure size 432x288 with 1 Axes>"
            ],
            "image/png": "[encoded data removed]"
          },
          "metadata": {
            "needs_background": "light"
          }
        }
      ],
      "source": [
        "# 1. torchvision을 사용하여 CIFAR10을 불러오고 정규화 하기\n",
        "import torch\n",
        "import torchvision\n",
        "import torchvision.transforms as transforms\n",
        "import torch.nn as nn\n",
        "import torch.optim as optim\n",
        "from torch.utils.data import DataLoader\n",
        "import matplotlib.pyplot as plt\n",
        "import numpy as np\n",
        "from scipy.interpolate import make_interp_spline, BSpline\n",
        "\n",
        "# Compose(), 여러 변환 작업을 단일 파이프라인으로 연결\n",
        "transform = transforms.Compose(\n",
        "    # ToTensor(), Python Image Library or Numpy 배열인 입력 이미지를 파이토치 텐서로 변환\n",
        "    [transforms.ToTensor(),\n",
        "     # 평균 및 표준 편차로 tensor 정규화, 각 채널의 평균값(RGB), 각 채널의 표준편차 값 \n",
        "     transforms.Normalize((0.5, 0.5, 0.5), (0.5, 0.5, 0.5))])\n",
        "\n",
        "\n",
        "# 각 미니 배치에 32개의 샘플이 포함됨\n",
        "batch_size = 32\n",
        "\n",
        "trainset = torchvision.datasets.CIFAR10(root='./data', train=True,\n",
        "                                        # transforms.Compose()를 사용하여 이전에 정의된 변환 파이프라인으로 설정\n",
        "                                        download=True, transform=transform)\n",
        "trainloader = torch.utils.data.DataLoader(trainset, batch_size=batch_size,\n",
        "                                          # num_workers : 데이터 로드에 사용할 하위 프로세스 수\n",
        "                                          shuffle=True, num_workers=2)\n",
        "\n",
        "testset = torchvision.datasets.CIFAR10(root='./data', train=False,\n",
        "                                       download=True, transform=transform)\n",
        "testloader = torch.utils.data.DataLoader(testset, batch_size=batch_size, \n",
        "                                         shuffle=False, num_workers=2)\n",
        "\n",
        "classes = ('plane', 'car', 'bird', 'cat', 'deer', \n",
        "           'dog', 'frog', 'horse', 'ship', 'truck')\n",
        "\n",
        "## loss function의 y값을 위한 스택\n",
        "loss_stack = []\n",
        "\n",
        "# 2. torchvision.models로 vgg16 불러오기\n",
        "model = torchvision.models.vgg16(pretrained=False)\n",
        "\n",
        "\n",
        "## CUDA 기기가 존재한다면, CUDA 장치를 출력:\n",
        "device = torch.device('cuda:0' if torch.cuda.is_available() else 'cpu')\n",
        "print(device)\n",
        "model.to(device)\n",
        "\n",
        "\n",
        "# 3. 손실 함수 정의\n",
        "criterion = nn.CrossEntropyLoss()\n",
        "optimizer = optim.SGD(model.parameters(), lr=0.001, momentum = 0.9)\n",
        "\n",
        "\n",
        "# 4. 학습용 데이터를 사용하여 신경망 학습\n",
        "n = len(trainloader)\n",
        "for epoch in range(10):   # 데이터셋을 수차례 반복합니다.\n",
        "    loss_add = 0\n",
        "    running_loss = 0.0\n",
        "    for i, data in enumerate(trainloader, 0):\n",
        "        # [inputs, labels]의 목록인 data로부터 입력을 받은 후;\n",
        "    #    inputs, labels = data # cuda 사용\n",
        "        inputs, labels = data[0].to(device), data[1].to(device)\n",
        "\n",
        "        # 변화도(Gradient) 매개변수를 0으로 만들고\n",
        "        optimizer.zero_grad()\n",
        "\n",
        "        # 순전파 + 역전파 + 최적화를 한 후\n",
        "        outputs = model(inputs)\n",
        "        loss = criterion(outputs, labels)\n",
        "        loss.backward()\n",
        "        optimizer.step()\n",
        "\n",
        "        # 통계를 출력\n",
        "        running_loss += loss.item()\n",
        "        if i % n == n-1:\n",
        "            print(f'[{epoch + 1}, {i + 1:5d}] loss: {running_loss / n:.3f}')\n",
        "            loss_stack.append(running_loss / n)\n",
        "            running_loss = 0.0\n",
        "\n",
        "print('Finished Training')\n",
        "\n",
        "# 5. loss - epoch 그래프 출력\n",
        "plt.title(\"training loss\")\n",
        "plt.xlabel(\"epoch\")\n",
        "plt.ylabel(\"loss\")\n",
        "plt.plot(loss_stack)\n",
        "\n",
        "\n",
        "# 학습한 모델 저장\n",
        "PATH = './cifar_net.pth'\n",
        "torch.save(model.state_dict(), PATH)\n",
        "\n",
        "# 각 분류(class)에 대한 예측값 계산을 위해 준비\n",
        "correct_pred = {classname: 0 for classname in classes}\n",
        "total_pred = {classname: 0 for classname in classes}\n",
        "\n",
        "# 변화도 필요 없음\n",
        "with torch.no_grad():\n",
        "    for data in testloader:\n",
        "        images, labels = data\n",
        "        images = images.cuda()\n",
        "        labels = labels.cuda()\n",
        "        outputs = model(images)\n",
        "        _, predictions = torch.max(outputs, 1)\n",
        "        # 각 분류별로 올바른 예측 수를 모읍니다\n",
        "        for label, prediction in zip(labels, predictions):\n",
        "            if label == prediction:\n",
        "                correct_pred[classes[label]] += 1\n",
        "            total_pred[classes[label]] += 1\n",
        "\n",
        "\n",
        "# 각 분류별 정확도(accuracy)를 출력합니다\n",
        "for classname, correct_count in correct_pred.items():\n",
        "    accuracy = 100 * float(correct_count) / total_pred[classname]\n",
        "    print(f'Accuracy for class: {classname:5s} is {accuracy:.1f} %')"
      ]
    }
  ]
}